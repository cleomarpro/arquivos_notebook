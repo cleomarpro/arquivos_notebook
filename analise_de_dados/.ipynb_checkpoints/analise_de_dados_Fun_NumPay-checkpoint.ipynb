{
 "cells": [
  {
   "cell_type": "code",
   "execution_count": 4,
   "id": "1b5762f0-4f15-43c3-92d8-59fbd443f500",
   "metadata": {},
   "outputs": [],
   "source": [
    "import numpy as np #numpy serve para trabalhar com arrey com dimenções do mesmo tipo"
   ]
  },
  {
   "cell_type": "code",
   "execution_count": 8,
   "id": "6a50fd02-0421-47f8-91ac-c9ec5cd9d2f9",
   "metadata": {},
   "outputs": [
    {
     "name": "stdout",
     "output_type": "stream",
     "text": [
      "[1 2 3]\n"
     ]
    }
   ],
   "source": [
    "a = np.array([1,2,3]) # Arrrey de uma dimeção \n",
    "print(a)\n",
    "\n"
   ]
  },
  {
   "cell_type": "code",
   "execution_count": 9,
   "id": "a36ffda6-7a97-4fcf-99fe-c9081ffa813a",
   "metadata": {},
   "outputs": [
    {
     "name": "stdout",
     "output_type": "stream",
     "text": [
      "[[1 2 3]\n",
      " [2 5 6]\n",
      " [1 2 3]]\n"
     ]
    }
   ],
   "source": [
    "b = np.array([(1,2,3),(2,5,6),(1,2,3)]) # Arrrey de mais uma dimeção \n",
    "print(b)"
   ]
  },
  {
   "cell_type": "code",
   "execution_count": 17,
   "id": "b9fd2859-0a9b-438b-b6d8-ab7411efd5c1",
   "metadata": {},
   "outputs": [
    {
     "data": {
      "text/plain": [
       "6"
      ]
     },
     "execution_count": 17,
     "metadata": {},
     "output_type": "execute_result"
    }
   ],
   "source": [
    "b.max() # maior numero da matriz"
   ]
  },
  {
   "cell_type": "code",
   "execution_count": 18,
   "id": "a1b23af6-ec5c-4ca7-9197-9f25a5669b0b",
   "metadata": {},
   "outputs": [
    {
     "data": {
      "text/plain": [
       "1"
      ]
     },
     "execution_count": 18,
     "metadata": {},
     "output_type": "execute_result"
    }
   ],
   "source": [
    "b.min() # menor numero da matriz"
   ]
  },
  {
   "cell_type": "code",
   "execution_count": 21,
   "id": "32dc6bf3-0290-4cfa-ad7b-4cba8ff1aa2f",
   "metadata": {},
   "outputs": [
    {
     "data": {
      "text/plain": [
       "25"
      ]
     },
     "execution_count": 21,
     "metadata": {},
     "output_type": "execute_result"
    }
   ],
   "source": [
    "b.sum() # somar todos os numero da matriz"
   ]
  },
  {
   "cell_type": "code",
   "execution_count": 22,
   "id": "71db2a09-348c-4a79-b1d9-552982874020",
   "metadata": {},
   "outputs": [
    {
     "data": {
      "text/plain": [
       "2.7777777777777777"
      ]
     },
     "execution_count": 22,
     "metadata": {},
     "output_type": "execute_result"
    }
   ],
   "source": [
    "b.mean() # média dos numero da matriz"
   ]
  },
  {
   "cell_type": "code",
   "execution_count": 14,
   "id": "6a2f4675-edeb-4240-9d73-9a2f0cf57c3e",
   "metadata": {},
   "outputs": [
    {
     "name": "stdout",
     "output_type": "stream",
     "text": [
      "[[0. 0. 0.]\n",
      " [0. 0. 0.]\n",
      " [0. 0. 0.]\n",
      " [0. 0. 0.]]\n"
     ]
    }
   ],
   "source": [
    "c = np.zeros((4, 3)) # criar matrizes com várias dimensões\n",
    "print(c)"
   ]
  },
  {
   "cell_type": "code",
   "execution_count": 15,
   "id": "777fcfa2-96d9-41cd-86e8-6655f1c318fc",
   "metadata": {},
   "outputs": [
    {
     "name": "stdout",
     "output_type": "stream",
     "text": [
      "[[1. 1. 1.]\n",
      " [1. 1. 1.]\n",
      " [1. 1. 1.]\n",
      " [1. 1. 1.]]\n"
     ]
    }
   ],
   "source": [
    "c = np.ones((4, 3)) # criar matrizes com várias dimensões\n",
    "print(c)"
   ]
  },
  {
   "cell_type": "code",
   "execution_count": null,
   "id": "527ebc87-5f8b-4787-81b8-bbe1e9240f00",
   "metadata": {},
   "outputs": [],
   "source": [
    "#mai,or numero da matriz"
   ]
  },
  {
   "cell_type": "code",
   "execution_count": 16,
   "id": "2022a64a-fa6a-4743-9a29-3a64f9c13267",
   "metadata": {},
   "outputs": [
    {
     "name": "stdout",
     "output_type": "stream",
     "text": [
      "[[1. 0. 0. 0.]\n",
      " [0. 1. 0. 0.]\n",
      " [0. 0. 1. 0.]\n",
      " [0. 0. 0. 1.]]\n"
     ]
    }
   ],
   "source": [
    "c = np.eye(4) # criar matrizes com várias dimensões\n",
    "print(c)"
   ]
  },
  {
   "cell_type": "code",
   "execution_count": null,
   "id": "42824aea-cfc2-4e62-9fc8-37278af380f7",
   "metadata": {},
   "outputs": [],
   "source": []
  }
 ],
 "metadata": {
  "kernelspec": {
   "display_name": "Python 3 (ipykernel)",
   "language": "python",
   "name": "python3"
  },
  "language_info": {
   "codemirror_mode": {
    "name": "ipython",
    "version": 3
   },
   "file_extension": ".py",
   "mimetype": "text/x-python",
   "name": "python",
   "nbconvert_exporter": "python",
   "pygments_lexer": "ipython3",
   "version": "3.9.12"
  }
 },
 "nbformat": 4,
 "nbformat_minor": 5
}
