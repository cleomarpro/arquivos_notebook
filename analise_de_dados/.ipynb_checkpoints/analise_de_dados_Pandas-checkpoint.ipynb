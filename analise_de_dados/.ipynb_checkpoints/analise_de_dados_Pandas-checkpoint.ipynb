{
 "cells": [
  {
   "cell_type": "code",
   "execution_count": 4,
   "id": "e400d6ad",
   "metadata": {},
   "outputs": [],
   "source": [
    "import pandas as pd\n",
    "import numpy as np"
   ]
  },
  {
   "cell_type": "code",
   "execution_count": 7,
   "id": "019e393a",
   "metadata": {},
   "outputs": [
    {
     "name": "stdout",
     "output_type": "stream",
     "text": [
      "     nome  NOTA     \n",
      "0     Ana     4  não\n",
      "1    João     8  sim\n",
      "2   Maria     9  sim\n",
      "3  Raquel    10  sim\n"
     ]
    }
   ],
   "source": [
    "obj = { 'nome':['Ana','João', 'Maria', 'Raquel'],\n",
    "      'NOTA':[4,8,9,10],\n",
    "      'Aprovado':['não','sim', 'sim', 'sim']}\n",
    "obj = pd.DataFrame(obj)\n",
    "print(obj)"
   ]
  },
  {
   "cell_type": "code",
   "execution_count": null,
   "id": "fc050aef",
   "metadata": {},
   "outputs": [],
   "source": []
  }
 ],
 "metadata": {
  "kernelspec": {
   "display_name": "Python 3 (ipykernel)",
   "language": "python",
   "name": "python3"
  },
  "language_info": {
   "codemirror_mode": {
    "name": "ipython",
    "version": 3
   },
   "file_extension": ".py",
   "mimetype": "text/x-python",
   "name": "python",
   "nbconvert_exporter": "python",
   "pygments_lexer": "ipython3",
   "version": "3.9.12"
  }
 },
 "nbformat": 4,
 "nbformat_minor": 5
}
