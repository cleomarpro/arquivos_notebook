{
 "cells": [
  {
   "cell_type": "code",
   "execution_count": null,
   "id": "b0660bb9",
   "metadata": {},
   "outputs": [],
   "source": []
  },
  {
   "cell_type": "code",
   "execution_count": 1,
   "id": "05dd4e70",
   "metadata": {},
   "outputs": [],
   "source": [
    "import os\n",
    "import pandas as pd"
   ]
  },
  {
   "cell_type": "code",
   "execution_count": 7,
   "id": "59f4b324",
   "metadata": {},
   "outputs": [
    {
     "data": {
      "text/html": [
       "<div>\n",
       "<style scoped>\n",
       "    .dataframe tbody tr th:only-of-type {\n",
       "        vertical-align: middle;\n",
       "    }\n",
       "\n",
       "    .dataframe tbody tr th {\n",
       "        vertical-align: top;\n",
       "    }\n",
       "\n",
       "    .dataframe thead th {\n",
       "        text-align: right;\n",
       "    }\n",
       "</style>\n",
       "<table border=\"1\" class=\"dataframe\">\n",
       "  <thead>\n",
       "    <tr style=\"text-align: right;\">\n",
       "      <th></th>\n",
       "      <th>Unnamed: 0</th>\n",
       "      <th>Modelo</th>\n",
       "      <th>Produto</th>\n",
       "      <th>Quantidade Devolvida</th>\n",
       "      <th>Loja</th>\n",
       "      <th>Preço Unitário</th>\n",
       "      <th>Unnamed: 6</th>\n",
       "    </tr>\n",
       "  </thead>\n",
       "  <tbody>\n",
       "    <tr>\n",
       "      <th>0</th>\n",
       "      <td>5</td>\n",
       "      <td>HL6259</td>\n",
       "      <td>Notebook</td>\n",
       "      <td>1</td>\n",
       "      <td>Curitiba</td>\n",
       "      <td>3500</td>\n",
       "      <td>NaN</td>\n",
       "    </tr>\n",
       "    <tr>\n",
       "      <th>1</th>\n",
       "      <td>17</td>\n",
       "      <td>HL2714</td>\n",
       "      <td>Tablet</td>\n",
       "      <td>1</td>\n",
       "      <td>Curitiba</td>\n",
       "      <td>1600</td>\n",
       "      <td>NaN</td>\n",
       "    </tr>\n",
       "    <tr>\n",
       "      <th>2</th>\n",
       "      <td>22</td>\n",
       "      <td>HL1918</td>\n",
       "      <td>Android</td>\n",
       "      <td>2</td>\n",
       "      <td>Curitiba</td>\n",
       "      <td>3400</td>\n",
       "      <td>NaN</td>\n",
       "    </tr>\n",
       "    <tr>\n",
       "      <th>3</th>\n",
       "      <td>40</td>\n",
       "      <td>HL2714</td>\n",
       "      <td>Tablet</td>\n",
       "      <td>1</td>\n",
       "      <td>Curitiba</td>\n",
       "      <td>1600</td>\n",
       "      <td>NaN</td>\n",
       "    </tr>\n",
       "    <tr>\n",
       "      <th>4</th>\n",
       "      <td>49</td>\n",
       "      <td>HL1918</td>\n",
       "      <td>Android</td>\n",
       "      <td>5</td>\n",
       "      <td>Curitiba</td>\n",
       "      <td>3400</td>\n",
       "      <td>NaN</td>\n",
       "    </tr>\n",
       "  </tbody>\n",
       "</table>\n",
       "</div>"
      ],
      "text/plain": [
       "   Unnamed: 0  Modelo   Produto  Quantidade Devolvida      Loja  \\\n",
       "0           5  HL6259  Notebook                     1  Curitiba   \n",
       "1          17  HL2714    Tablet                     1  Curitiba   \n",
       "2          22  HL1918   Android                     2  Curitiba   \n",
       "3          40  HL2714    Tablet                     1  Curitiba   \n",
       "4          49  HL1918   Android                     5  Curitiba   \n",
       "\n",
       "   Preço Unitário  Unnamed: 6  \n",
       "0            3500         NaN  \n",
       "1            1600         NaN  \n",
       "2            3400         NaN  \n",
       "3            1600         NaN  \n",
       "4            3400         NaN  "
      ]
     },
     "execution_count": 7,
     "metadata": {},
     "output_type": "execute_result"
    }
   ],
   "source": [
    "vendas = pd.read_csv('C:/Users/cleomar/Downloads/Vendas/Devolucoes - Curitiba.csv') \n",
    "#print(vendas)\n",
    "vendas_u_5 = pd.DataFrame(vendas) \n",
    "vendas_u_5 = vendas_u_5.rename(columns={'SKU':'Modelo'}) # renomeado uma coluna\n",
    "vendas_u_5 = vendas_u_5.head(5)\n",
    "vendas_u_5.drop('Data', axis=1, inplace = True) # deletar uma coluda, usando (axis=0) deleta uma linha\n",
    "vendas_u_5.head(5)"
   ]
  },
  {
   "cell_type": "code",
   "execution_count": 8,
   "id": "5b575f67",
   "metadata": {},
   "outputs": [
    {
     "data": {
      "image/png": "[encoded data removed]",
      "text/plain": [
       "<Figure size 432x288 with 1 Axes>"
      ]
     },
     "metadata": {
      "needs_background": "light"
     },
     "output_type": "display_data"
    }
   ],
   "source": [
    "import matplotlib.pyplot as plt # para gerar gráficos\n",
    "vendas.boxplot(column = 'Preço Unitário')\n",
    "plt.show()"
   ]
  },
  {
   "cell_type": "code",
   "execution_count": null,
   "id": "3333ab40",
   "metadata": {},
   "outputs": [],
   "source": []
  }
 ],
 "metadata": {
  "kernelspec": {
   "display_name": "Python 3 (ipykernel)",
   "language": "python",
   "name": "python3"
  },
  "language_info": {
   "codemirror_mode": {
    "name": "ipython",
    "version": 3
   },
   "file_extension": ".py",
   "mimetype": "text/x-python",
   "name": "python",
   "nbconvert_exporter": "python",
   "pygments_lexer": "ipython3",
   "version": "3.9.12"
  }
 },
 "nbformat": 4,
 "nbformat_minor": 5
}
