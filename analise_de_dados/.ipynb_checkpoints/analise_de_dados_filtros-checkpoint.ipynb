{
 "cells": [
  {
   "cell_type": "code",
   "execution_count": 1,
   "id": "5416213a",
   "metadata": {},
   "outputs": [],
   "source": [
    "import pandas as pd\n",
    "import numpy as np"
   ]
  },
  {
   "cell_type": "code",
   "execution_count": 7,
   "id": "2b0abe91",
   "metadata": {},
   "outputs": [
    {
     "name": "stdout",
     "output_type": "stream",
     "text": [
      "     nome  NOTA Aprovado\n",
      "0     Ana     4      não\n",
      "1    João     8      sim\n",
      "2   Maria     9      sim\n",
      "3  Raquel    10      sim\n"
     ]
    }
   ],
   "source": [
    "obj = { 'nome':['Ana','João', 'Maria', 'Raquel'],\n",
    "      'NOTA':[4,8,9,10],\n",
    "      'Aprovado':['não','sim', 'sim', 'sim']}\n",
    "obj = pd.DataFrame(obj) # data frame unedimencional\n",
    "print(obj)"
   ]
  },
  {
   "cell_type": "code",
   "execution_count": 8,
   "id": "511d4833",
   "metadata": {},
   "outputs": [
    {
     "name": "stdout",
     "output_type": "stream",
     "text": [
      "0       Ana\n",
      "1      João\n",
      "2     Maria\n",
      "3    Raquel\n",
      "Name: nome, dtype: object\n"
     ]
    }
   ],
   "source": [
    "obj_filrto_colonal = obj['nome'] #  filtro por colunas\n",
    "print(obj_filrto)"
   ]
  },
  {
   "cell_type": "code",
   "execution_count": 13,
   "id": "2a25d0d0",
   "metadata": {},
   "outputs": [
    {
     "name": "stdout",
     "output_type": "stream",
     "text": [
      "    nome  NOTA Aprovado\n",
      "1   João     8      sim\n",
      "2  Maria     9      sim\n",
      "     nome  NOTA Aprovado\n",
      "0     Ana     4      não\n",
      "1    João     8      sim\n",
      "2   Maria     9      sim\n",
      "3  Raquel    10      sim\n"
     ]
    }
   ],
   "source": [
    "obj_filrto_linha = obj.loc[[1,2]] # filrro pelo número de id da linha\n",
    "print(obj_filrto_linha)\n",
    "\n",
    "obj_filrto_linha = obj.loc[0:3] # filtro de um ponto ao outro\n",
    "print(obj_filrto_linha)"
   ]
  },
  {
   "cell_type": "code",
   "execution_count": 18,
   "id": "c1d44342",
   "metadata": {},
   "outputs": [
    {
     "name": "stdout",
     "output_type": "stream",
     "text": [
      "  nome  NOTA Aprovado\n",
      "0  Ana     4      não\n"
     ]
    }
   ],
   "source": [
    "obj_cond = obj.loc[obj['NOTA'] <= 5] # filro por condição, podendo usar várias operadores\n",
    "print(obj_cond)"
   ]
  },
  {
   "cell_type": "code",
   "execution_count": null,
   "id": "b07a769e",
   "metadata": {},
   "outputs": [],
   "source": []
  }
 ],
 "metadata": {
  "kernelspec": {
   "display_name": "Python 3 (ipykernel)",
   "language": "python",
   "name": "python3"
  },
  "language_info": {
   "codemirror_mode": {
    "name": "ipython",
    "version": 3
   },
   "file_extension": ".py",
   "mimetype": "text/x-python",
   "name": "python",
   "nbconvert_exporter": "python",
   "pygments_lexer": "ipython3",
   "version": "3.9.12"
  }
 },
 "nbformat": 4,
 "nbformat_minor": 5
}
