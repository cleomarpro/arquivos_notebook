{
 "cells": [
  {
   "cell_type": "code",
   "execution_count": 1,
   "id": "b66b50bc",
   "metadata": {
    "scrolled": false
   },
   "outputs": [
    {
     "name": "stdout",
     "output_type": "stream",
     "text": [
      "Goiânia\n",
      "9\n",
      "1\n"
     ]
    }
   ],
   "source": [
    "# acessando atributo numa lista\n",
    "\n",
    "lista = [1,[1,2,3],[3,4,5,[8,9,10]],6, ['rio','salvador','Goiânia']]\n",
    "lista1=lista[4][2]\n",
    "lista2=lista[2][3][1]\n",
    "lista3=lista[0]\n",
    "print(lista1)\n",
    "print(lista2)\n",
    "print(lista3)"
   ]
  },
  {
   "cell_type": "code",
   "execution_count": 2,
   "id": "1a180082",
   "metadata": {
    "scrolled": true
   },
   "outputs": [
    {
     "name": "stdout",
     "output_type": "stream",
     "text": [
      "['rio', 'salvador', 'Brasilia', 'canápolis']\n"
     ]
    }
   ],
   "source": [
    "#utilizando o append para inserir atributo na lista\n",
    "lista = ['rio','salvador','Goiânia']\n",
    "lista.append('canápolis') #utilizando o append para inserir atributo na lista\n",
    "lista[2]='Brasilia' # outra maneira de ensirir atributos na lista\n",
    "print(lista)"
   ]
  },
  {
   "cell_type": "code",
   "execution_count": 3,
   "id": "8d6a9c63",
   "metadata": {},
   "outputs": [
    {
     "name": "stdout",
     "output_type": "stream",
     "text": [
      "['rio', 'salvador', 'Goiânia']\n",
      "['rio', 'salvador', 'Goiânia', 'brasilia', 'pedra preta', 'são paulo']\n"
     ]
    }
   ],
   "source": [
    "#inserir uma lista dentro de lista\n",
    "lista2= ['rio','salvador','Goiânia']\n",
    "lista_a_ser_inserida = ['brasilia','pedra preta', 'são paulo']\n",
    "print(lista2)\n",
    "\n",
    "for item in lista_a_ser_inserida:\n",
    "    lista2.append(item)\n",
    "    \n",
    "print (lista2)"
   ]
  },
  {
   "cell_type": "code",
   "execution_count": 4,
   "id": "c4d212e2",
   "metadata": {},
   "outputs": [
    {
     "name": "stdout",
     "output_type": "stream",
     "text": [
      "[1, 2, 3]\n",
      "[1.0, 2.0, 3.0]\n"
     ]
    }
   ],
   "source": [
    "# muda o tipo de dado \n",
    "lista3 = [1,2,3]\n",
    "print(lista3)\n",
    "\n",
    "nova_lista = []\n",
    "for item in lista3:\n",
    "    nova_lista.append(float(item))\n",
    "print(nova_lista)"
   ]
  },
  {
   "cell_type": "code",
   "execution_count": 5,
   "id": "abf2387a",
   "metadata": {},
   "outputs": [
    {
     "name": "stdout",
     "output_type": "stream",
     "text": [
      "[1, 3]\n"
     ]
    }
   ],
   "source": [
    "# deletar um atributo\n",
    "lista = [1,2,3]\n",
    "del(lista[1])\n",
    "print(lista)"
   ]
  },
  {
   "cell_type": "code",
   "execution_count": 6,
   "id": "2b9aa3bb",
   "metadata": {},
   "outputs": [
    {
     "name": "stdout",
     "output_type": "stream",
     "text": [
      "[1, 2]\n"
     ]
    }
   ],
   "source": [
    "# Modificar um atributo\n",
    "lista[1] = 2 \n",
    "print(lista)"
   ]
  },
  {
   "cell_type": "code",
   "execution_count": null,
   "id": "80ae01b7",
   "metadata": {},
   "outputs": [],
   "source": [
    "#utilizando o append para inserir atributo na lista\n",
    "a= 'can'\n",
    "b= 'san'\n",
    "\n",
    "lista = ['rio','salvador','Goiânia']\n",
    "lista.append(a) #utilizando o append para inserir atributo na lista\n",
    "lista[2]='Brasilia' # outra maneira de ensirir atributos na lista\n",
    "print(lista)"
   ]
  }
 ],
 "metadata": {
  "kernelspec": {
   "display_name": "Python 3 (ipykernel)",
   "language": "python",
   "name": "python3"
  },
  "language_info": {
   "codemirror_mode": {
    "name": "ipython",
    "version": 3
   },
   "file_extension": ".py",
   "mimetype": "text/x-python",
   "name": "python",
   "nbconvert_exporter": "python",
   "pygments_lexer": "ipython3",
   "version": "3.9.12"
  }
 },
 "nbformat": 4,
 "nbformat_minor": 5
}
