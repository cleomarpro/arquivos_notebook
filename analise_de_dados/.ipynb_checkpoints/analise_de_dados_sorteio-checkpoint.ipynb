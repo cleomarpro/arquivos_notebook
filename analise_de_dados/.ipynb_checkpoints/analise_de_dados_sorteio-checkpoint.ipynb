{
 "cells": [
  {
   "cell_type": "code",
   "execution_count": 2,
   "id": "24c8331c",
   "metadata": {},
   "outputs": [],
   "source": [
    "import random\n",
    "import numpy as np"
   ]
  },
  {
   "cell_type": "code",
   "execution_count": 7,
   "id": "a6cbdd26",
   "metadata": {},
   "outputs": [
    {
     "name": "stdout",
     "output_type": "stream",
     "text": [
      "cidade escolhida é: 58\n"
     ]
    }
   ],
   "source": [
    "\n",
    "#cidades = ['bahia','rio','salvador','Goiânia','brasilia','rio branco','guapor','Anápolis','canápolis']\n",
    "x1 = np.arange(0,100,1) #criando um arrey\n",
    "#cidades = cidades[1]\n",
    "sorteio = random.choice(x1)\n",
    "print('cidade escolhida é:', sorteio)"
   ]
  },
  {
   "cell_type": "code",
   "execution_count": null,
   "id": "52ac3c90",
   "metadata": {},
   "outputs": [],
   "source": []
  }
 ],
 "metadata": {
  "kernelspec": {
   "display_name": "Python 3 (ipykernel)",
   "language": "python",
   "name": "python3"
  },
  "language_info": {
   "codemirror_mode": {
    "name": "ipython",
    "version": 3
   },
   "file_extension": ".py",
   "mimetype": "text/x-python",
   "name": "python",
   "nbconvert_exporter": "python",
   "pygments_lexer": "ipython3",
   "version": "3.9.12"
  }
 },
 "nbformat": 4,
 "nbformat_minor": 5
}
