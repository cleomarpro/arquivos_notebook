{
 "cells": [
  {
   "cell_type": "code",
   "execution_count": 33,
   "id": "337d528d",
   "metadata": {},
   "outputs": [
    {
     "name": "stdout",
     "output_type": "stream",
     "text": [
      "a\n",
      "é minha frase/ 12.00000\n",
      "qual é m\n",
      "al é m\n",
      "ulém\n",
      "3\n",
      "28\n",
      "qual é minha frase ? 12,00\n",
      "qual é m nha frase/ 12.00000\n"
     ]
    }
   ],
   "source": [
    "# trabalhando com string\n",
    "frase = 'qual é minha frase/ 12.00000'\n",
    "frase1 = frase[2] # acessando uma letra da frase\n",
    "print(frase1)\n",
    "\n",
    "frase2 = frase[5:] # imprimindo os caracteres a partid quinto caracter na ordem crecente\n",
    "print(frase2)\n",
    "\n",
    "frase5 = frase[:8] # imprimindo os caracteres a partid 8 caracter na ordem decrecente\n",
    "print(frase5)\n",
    "\n",
    "frase3 = frase[2:8] # imprimindo os caracteres apartir posiçao 2 até a posição 8\n",
    "print(frase3)\n",
    "\n",
    "frase4 = frase[1:8:2] # imprimindo os caracteres apartir posiçao 1 até a posição 8 pulando 2 em 2 caracter\n",
    "print(frase4)\n",
    "\n",
    "frase6 = frase.count('a') # contando determinado caracter \n",
    "print(frase6)\n",
    "\n",
    "frase7 = len(frase) # contando todos os caracter da frase\n",
    "print(frase7)\n",
    "\n",
    "frase7 = frase.replace('/',' ?').replace('00000','00').replace('.',',') # substituindo letras e palavras\n",
    "print(frase7)\n",
    "frase7 = frase.replace('i',' ') \n",
    "print(frase7)"
   ]
  },
  {
   "cell_type": "code",
   "execution_count": null,
   "id": "671cb018",
   "metadata": {},
   "outputs": [],
   "source": []
  }
 ],
 "metadata": {
  "kernelspec": {
   "display_name": "Python 3 (ipykernel)",
   "language": "python",
   "name": "python3"
  },
  "language_info": {
   "codemirror_mode": {
    "name": "ipython",
    "version": 3
   },
   "file_extension": ".py",
   "mimetype": "text/x-python",
   "name": "python",
   "nbconvert_exporter": "python",
   "pygments_lexer": "ipython3",
   "version": "3.9.12"
  }
 },
 "nbformat": 4,
 "nbformat_minor": 5
}
