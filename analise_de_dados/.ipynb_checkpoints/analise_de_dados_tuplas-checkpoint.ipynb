{
 "cells": [
  {
   "cell_type": "code",
   "execution_count": 4,
   "id": "47ceda16",
   "metadata": {},
   "outputs": [
    {
     "name": "stdout",
     "output_type": "stream",
     "text": [
      "[1, 2, 3]\n",
      "list[1, 2, 3]\n",
      "list[1, 2, 3]\n"
     ]
    }
   ],
   "source": [
    "# Tuplas são imutáveis, mas pode ser transformadas em outro dipo de dados\n",
    "\n",
    "a = [1,2,3] # lista\n",
    "print(a)\n",
    "b = tuple(b) # L ista transformada em tupla\n",
    "print(c)\n",
    "c = list[b] # tupla transformada em lista\n",
    "print(c)"
   ]
  },
  {
   "cell_type": "code",
   "execution_count": null,
   "id": "d6a5d89b",
   "metadata": {},
   "outputs": [],
   "source": [
    "l = [<WSGIRequest: GET '/pessoa/novo-fornecedor/'>]\n",
    "i = l['WSGIRequest']"
   ]
  }
 ],
 "metadata": {
  "kernelspec": {
   "display_name": "Python 3 (ipykernel)",
   "language": "python",
   "name": "python3"
  },
  "language_info": {
   "codemirror_mode": {
    "name": "ipython",
    "version": 3
   },
   "file_extension": ".py",
   "mimetype": "text/x-python",
   "name": "python",
   "nbconvert_exporter": "python",
   "pygments_lexer": "ipython3",
   "version": "3.9.12"
  }
 },
 "nbformat": 4,
 "nbformat_minor": 5
}
