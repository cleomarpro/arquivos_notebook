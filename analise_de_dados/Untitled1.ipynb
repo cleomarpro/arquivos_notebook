{
 "cells": [
  {
   "cell_type": "code",
   "execution_count": null,
   "id": "3f0b1333",
   "metadata": {},
   "outputs": [],
   "source": [
    "def binario(n):\n",
    "    b = []\n",
    "    n = int(n)\n",
    "    y = n\n",
    "    while y > 1:\n",
    "        y = n / 2\n",
    "        x = n % 2\n",
    "        b.append(x)\n",
    "        print(b)\n",
    "binario('45')"
   ]
  },
  {
   "cell_type": "code",
   "execution_count": 46,
   "id": "7d14d881",
   "metadata": {},
   "outputs": [
    {
     "name": "stdout",
     "output_type": "stream",
     "text": [
      "Digite um numero (Base decimal) para ser convertido em Binário: 45\n",
      "O número 45 , quando convertido em binário, vale: 101101\n"
     ]
    }
   ],
   "source": [
    "#Desenvolvido por Prô Terra - MakerZine\n",
    "#Para mais detalhes, acesse: https://www.makerzine.com.br\n",
    "\n",
    "dividendo = int(input(\"Digite um numero (Base decimal) para ser convertido em Binário: \"))\n",
    "numero_digitado = dividendo\n",
    "quociente = 1\n",
    "lista = []\n",
    "\n",
    "while quociente >= 1:\n",
    "  resto = dividendo % 2\n",
    "  lista.insert(0,resto)\n",
    "  quociente = dividendo // 2\n",
    "  dividendo = quociente\n",
    "\n",
    "binario = ''.join([str(item) for item in lista])\n",
    "print(\"O número\",numero_digitado,\", quando convertido em binário, vale:\",binario)"
   ]
  },
  {
   "cell_type": "code",
   "execution_count": null,
   "id": "631afbb0",
   "metadata": {},
   "outputs": [],
   "source": []
  }
 ],
 "metadata": {
  "kernelspec": {
   "display_name": "Python 3 (ipykernel)",
   "language": "python",
   "name": "python3"
  },
  "language_info": {
   "codemirror_mode": {
    "name": "ipython",
    "version": 3
   },
   "file_extension": ".py",
   "mimetype": "text/x-python",
   "name": "python",
   "nbconvert_exporter": "python",
   "pygments_lexer": "ipython3",
   "version": "3.9.12"
  }
 },
 "nbformat": 4,
 "nbformat_minor": 5
}
