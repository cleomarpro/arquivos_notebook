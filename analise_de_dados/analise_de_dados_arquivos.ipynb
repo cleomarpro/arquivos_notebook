{
 "cells": [
  {
   "cell_type": "code",
   "execution_count": 2,
   "id": "461a84fa",
   "metadata": {},
   "outputs": [],
   "source": [
    "import os\n",
    "import pandas as pd"
   ]
  },
  {
   "cell_type": "code",
   "execution_count": 3,
   "id": "6f6de833",
   "metadata": {
    "scrolled": true
   },
   "outputs": [
    {
     "data": {
      "text/html": [
       "<div>\n",
       "<style scoped>\n",
       "    .dataframe tbody tr th:only-of-type {\n",
       "        vertical-align: middle;\n",
       "    }\n",
       "\n",
       "    .dataframe tbody tr th {\n",
       "        vertical-align: top;\n",
       "    }\n",
       "\n",
       "    .dataframe thead th {\n",
       "        text-align: right;\n",
       "    }\n",
       "</style>\n",
       "<table border=\"1\" class=\"dataframe\">\n",
       "  <thead>\n",
       "    <tr style=\"text-align: right;\">\n",
       "      <th></th>\n",
       "      <th>Unnamed: 0</th>\n",
       "      <th>SKU</th>\n",
       "      <th>Produto</th>\n",
       "      <th>Quantidade Devolvida</th>\n",
       "      <th>Data</th>\n",
       "      <th>Loja</th>\n",
       "      <th>Preço Unitário</th>\n",
       "      <th>Unnamed: 6</th>\n",
       "    </tr>\n",
       "  </thead>\n",
       "  <tbody>\n",
       "    <tr>\n",
       "      <th>0</th>\n",
       "      <td>5</td>\n",
       "      <td>HL6259</td>\n",
       "      <td>Notebook</td>\n",
       "      <td>1</td>\n",
       "      <td>6/10/2018</td>\n",
       "      <td>Curitiba</td>\n",
       "      <td>3500</td>\n",
       "      <td>NaN</td>\n",
       "    </tr>\n",
       "    <tr>\n",
       "      <th>1</th>\n",
       "      <td>17</td>\n",
       "      <td>HL2714</td>\n",
       "      <td>Tablet</td>\n",
       "      <td>1</td>\n",
       "      <td>8/5/2018</td>\n",
       "      <td>Curitiba</td>\n",
       "      <td>1600</td>\n",
       "      <td>NaN</td>\n",
       "    </tr>\n",
       "    <tr>\n",
       "      <th>2</th>\n",
       "      <td>22</td>\n",
       "      <td>HL1918</td>\n",
       "      <td>Android</td>\n",
       "      <td>2</td>\n",
       "      <td>5/5/2018</td>\n",
       "      <td>Curitiba</td>\n",
       "      <td>3400</td>\n",
       "      <td>NaN</td>\n",
       "    </tr>\n",
       "    <tr>\n",
       "      <th>3</th>\n",
       "      <td>40</td>\n",
       "      <td>HL2714</td>\n",
       "      <td>Tablet</td>\n",
       "      <td>1</td>\n",
       "      <td>6/25/2018</td>\n",
       "      <td>Curitiba</td>\n",
       "      <td>1600</td>\n",
       "      <td>NaN</td>\n",
       "    </tr>\n",
       "    <tr>\n",
       "      <th>4</th>\n",
       "      <td>49</td>\n",
       "      <td>HL1918</td>\n",
       "      <td>Android</td>\n",
       "      <td>5</td>\n",
       "      <td>9/28/2018</td>\n",
       "      <td>Curitiba</td>\n",
       "      <td>3400</td>\n",
       "      <td>NaN</td>\n",
       "    </tr>\n",
       "  </tbody>\n",
       "</table>\n",
       "</div>"
      ],
      "text/plain": [
       "   Unnamed: 0     SKU   Produto  Quantidade Devolvida       Data      Loja  \\\n",
       "0           5  HL6259  Notebook                     1  6/10/2018  Curitiba   \n",
       "1          17  HL2714    Tablet                     1   8/5/2018  Curitiba   \n",
       "2          22  HL1918   Android                     2   5/5/2018  Curitiba   \n",
       "3          40  HL2714    Tablet                     1  6/25/2018  Curitiba   \n",
       "4          49  HL1918   Android                     5  9/28/2018  Curitiba   \n",
       "\n",
       "   Preço Unitário  Unnamed: 6  \n",
       "0            3500         NaN  \n",
       "1            1600         NaN  \n",
       "2            3400         NaN  \n",
       "3            1600         NaN  \n",
       "4            3400         NaN  "
      ]
     },
     "execution_count": 3,
     "metadata": {},
     "output_type": "execute_result"
    }
   ],
   "source": [
    "vendas = pd.read_csv('C:/Users/cleomar/Downloads/Vendas/Devolucoes - Curitiba.csv') # lê e armazenar uma tabela\n",
    "#print(vendas)\n",
    "vendas.head(5) # visualizar uma tabela\n"
   ]
  },
  {
   "cell_type": "code",
   "execution_count": 34,
   "id": "a5b952b0",
   "metadata": {},
   "outputs": [
    {
     "name": "stdout",
     "output_type": "stream",
     "text": [
      "['Devolucoes - Belo Horizonte.csv', 'Devolucoes - Curitiba.csv', 'Devolucoes - Fortaleza.csv', 'Devolucoes - Goiás.csv', 'Devolucoes - Porto Alegre.csv', 'Devolucoes - Recife.csv', 'Devolucoes - Rio de Janeiro.csv', 'Devolucoes - Salvador.csv', 'Devolucoes - São Paulo.csv', 'Vendas - Belo Horizonte.csv', 'Vendas - Curitiba.csv', 'Vendas - Fortaleza.csv', 'Vendas - Goiás.csv', 'Vendas - Porto Alegre.csv', 'Vendas - Recife.csv', 'Vendas - Rio de Janeiro.csv', 'Vendas - Salvador.csv', 'Vendas - São Paulo - Copia.csv', 'Vendas - São Paulo.csv']\n"
     ]
    }
   ],
   "source": [
    "lista_arquivo = os.listdir('C:/Users/cleomar/Downloads/Vendas/') # listando os arquivos da pasta\n",
    "print(lista_arquivo)"
   ]
  },
  {
   "cell_type": "code",
   "execution_count": null,
   "id": "3c20738c",
   "metadata": {},
   "outputs": [],
   "source": []
  },
  {
   "cell_type": "code",
   "execution_count": null,
   "id": "7607bed2",
   "metadata": {},
   "outputs": [],
   "source": []
  }
 ],
 "metadata": {
  "kernelspec": {
   "display_name": "Python 3 (ipykernel)",
   "language": "python",
   "name": "python3"
  },
  "language_info": {
   "codemirror_mode": {
    "name": "ipython",
    "version": 3
   },
   "file_extension": ".py",
   "mimetype": "text/x-python",
   "name": "python",
   "nbconvert_exporter": "python",
   "pygments_lexer": "ipython3",
   "version": "3.9.12"
  }
 },
 "nbformat": 4,
 "nbformat_minor": 5
}
