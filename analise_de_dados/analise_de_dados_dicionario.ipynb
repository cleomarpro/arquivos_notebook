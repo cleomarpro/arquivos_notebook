{
 "cells": [
  {
   "cell_type": "code",
   "execution_count": 30,
   "id": "b2727a22",
   "metadata": {},
   "outputs": [],
   "source": [
    "import pandas as pd\n",
    "import matplotlib.pyplot as plt # para gerar gráficos"
   ]
  },
  {
   "cell_type": "code",
   "execution_count": 2,
   "id": "7edf16eb",
   "metadata": {},
   "outputs": [],
   "source": [
    "dicionario = {\n",
    "    'nome': 'jão',\n",
    "    'idade':22,\n",
    "    'função': 'programador',\n",
    "}"
   ]
  },
  {
   "cell_type": "code",
   "execution_count": 3,
   "id": "27d4ed80",
   "metadata": {},
   "outputs": [
    {
     "data": {
      "text/plain": [
       "'jão'"
      ]
     },
     "execution_count": 3,
     "metadata": {},
     "output_type": "execute_result"
    }
   ],
   "source": [
    "#acessando valores no dicionário\n",
    "dicionario['nome']"
   ]
  },
  {
   "cell_type": "code",
   "execution_count": 4,
   "id": "507940b7",
   "metadata": {},
   "outputs": [
    {
     "name": "stdout",
     "output_type": "stream",
     "text": [
      "jão\n"
     ]
    }
   ],
   "source": [
    "#acessando valores no dicionário\n",
    "obj = dicionario['nome']\n",
    "print(obj)"
   ]
  },
  {
   "cell_type": "code",
   "execution_count": 5,
   "id": "485069d1",
   "metadata": {},
   "outputs": [
    {
     "name": "stdout",
     "output_type": "stream",
     "text": [
      "cleomar\n"
     ]
    }
   ],
   "source": [
    "#mudando valores no dicionário\n",
    "obj = dicionario['nome'] = 'cleomar'\n",
    "print(obj)"
   ]
  },
  {
   "cell_type": "code",
   "execution_count": 6,
   "id": "538d4af5",
   "metadata": {},
   "outputs": [
    {
     "name": "stdout",
     "output_type": "stream",
     "text": [
      "{'nome': 'cleomar', 'idade': 22, 'função': 'programador', 'altura': '1,75'}\n"
     ]
    }
   ],
   "source": [
    "# adincionar mais uma chave e valor\n",
    "\n",
    "obj = dicionario['altura'] = '1,75'\n",
    "print(dicionario)"
   ]
  },
  {
   "cell_type": "code",
   "execution_count": 7,
   "id": "5a935c6f",
   "metadata": {},
   "outputs": [
    {
     "name": "stdout",
     "output_type": "stream",
     "text": [
      "dict_keys(['nome', 'idade', 'função', 'altura'])\n"
     ]
    }
   ],
   "source": [
    "#buscar todas as chaves do dicionários\n",
    "di = dicionario.keys()\n",
    "print(di)"
   ]
  },
  {
   "cell_type": "code",
   "execution_count": 8,
   "id": "ec651f6d",
   "metadata": {},
   "outputs": [
    {
     "name": "stdout",
     "output_type": "stream",
     "text": [
      "dict_items([('nome', 'cleomar'), ('idade', 22), ('função', 'programador'), ('altura', '1,75')])\n"
     ]
    }
   ],
   "source": [
    "#buscar todas as itens do dicionários\n",
    "di = dicionario.items()\n",
    "print(di)"
   ]
  },
  {
   "cell_type": "code",
   "execution_count": 9,
   "id": "66be0aa6",
   "metadata": {},
   "outputs": [
    {
     "name": "stdout",
     "output_type": "stream",
     "text": [
      "dict_values(['cleomar', 22, 'programador', '1,75'])\n"
     ]
    }
   ],
   "source": [
    "#buscar todas as itens do dicionários\n",
    "di = dicionario.values()\n",
    "print(di)"
   ]
  },
  {
   "cell_type": "code",
   "execution_count": 10,
   "id": "3a87f5bc",
   "metadata": {},
   "outputs": [
    {
     "name": "stdout",
     "output_type": "stream",
     "text": [
      "None\n"
     ]
    }
   ],
   "source": [
    "#excluindo itens do dicionários\n",
    "di = dicionario.clear()\n",
    "print(di)"
   ]
  },
  {
   "cell_type": "code",
   "execution_count": 50,
   "id": "76997db9",
   "metadata": {},
   "outputs": [
    {
     "name": "stdout",
     "output_type": "stream",
     "text": [
      "[{'id': 1, 'nome': 'joão'}, {'id': 1, 'nome': 'joão'}, {'id': 1, 'nome': 'joão'}]\n"
     ]
    }
   ],
   "source": [
    "# Lista de dicionários\n",
    "\n",
    "lista = [{'id':1, 'nome':'joão'}, {'id':1, 'nome':'joão'}, {'id':1, 'nome':'joão'}]\n",
    "print(lista)"
   ]
  },
  {
   "cell_type": "code",
   "execution_count": 51,
   "id": "edace540",
   "metadata": {},
   "outputs": [
    {
     "name": "stdout",
     "output_type": "stream",
     "text": [
      "{'id': 1, 'nome': 'joão'}\n"
     ]
    }
   ],
   "source": [
    "# acessando um objeto da lista\n",
    "t = lista[1]\n",
    "print(t)"
   ]
  },
  {
   "cell_type": "code",
   "execution_count": 52,
   "id": "ed373160",
   "metadata": {},
   "outputs": [
    {
     "name": "stdout",
     "output_type": "stream",
     "text": [
      "joão\n"
     ]
    }
   ],
   "source": [
    "# acessando um atributo de um objeto da lista\n",
    "t = lista[1]['nome']\n",
    "print(t)"
   ]
  },
  {
   "cell_type": "code",
   "execution_count": 53,
   "id": "c804c9b4",
   "metadata": {},
   "outputs": [
    {
     "name": "stdout",
     "output_type": "stream",
     "text": [
      "pedro\n",
      "[{'id': 1, 'nome': 'pedro'}, {'id': 1, 'nome': 'joão'}, {'id': 1, 'nome': 'joão'}]\n"
     ]
    }
   ],
   "source": [
    "# alterando o valor do atributo na lista objeto\n",
    "t = lista[0]['nome'] = 'pedro'\n",
    "print(t)\n",
    "print(lista)"
   ]
  },
  {
   "cell_type": "code",
   "execution_count": 54,
   "id": "3818ef9a",
   "metadata": {},
   "outputs": [
    {
     "name": "stdout",
     "output_type": "stream",
     "text": [
      "23\n",
      "[{'id': 1, 'nome': 'pedro'}, {'id': 1, 'nome': 'joão', 'idade': '23'}, {'id': 1, 'nome': 'joão'}]\n"
     ]
    }
   ],
   "source": [
    "# inserindo uma variável na lista objeto\n",
    "t = lista[1]['idade'] = '23'\n",
    "print(t)\n",
    "print(lista)"
   ]
  },
  {
   "cell_type": "code",
   "execution_count": 55,
   "id": "6afe91e5",
   "metadata": {},
   "outputs": [
    {
     "name": "stdout",
     "output_type": "stream",
     "text": [
      "[{'id': 1, 'nome': 'pedro'}, {'id': 1, 'nome': 'joão'}, {'id': 1, 'nome': 'joão'}]\n"
     ]
    }
   ],
   "source": [
    "# removendo uma variável na lista objeto\n",
    "\n",
    "del(lista[1]['idade'])\n",
    "print(lista)"
   ]
  },
  {
   "cell_type": "code",
   "execution_count": null,
   "id": "3c7d7c98",
   "metadata": {},
   "outputs": [],
   "source": []
  },
  {
   "cell_type": "code",
   "execution_count": null,
   "id": "0e5b59e7",
   "metadata": {},
   "outputs": [],
   "source": []
  },
  {
   "cell_type": "code",
   "execution_count": 7,
   "id": "44baa10a",
   "metadata": {},
   "outputs": [
    {
     "ename": "TypeError",
     "evalue": "'int' object is not iterable",
     "output_type": "error",
     "traceback": [
      "\u001b[1;31m---------------------------------------------------------------------------\u001b[0m",
      "\u001b[1;31mTypeError\u001b[0m                                 Traceback (most recent call last)",
      "Input \u001b[1;32mIn [7]\u001b[0m, in \u001b[0;36m<cell line: 2>\u001b[1;34m()\u001b[0m\n\u001b[0;32m      1\u001b[0m te \u001b[38;5;241m=\u001b[39m {\u001b[38;5;124m'\u001b[39m\u001b[38;5;124mid\u001b[39m\u001b[38;5;124m'\u001b[39m: \u001b[38;5;241m1\u001b[39m, \u001b[38;5;124m'\u001b[39m\u001b[38;5;124mnome\u001b[39m\u001b[38;5;124m'\u001b[39m: \u001b[38;5;124m'\u001b[39m\u001b[38;5;124mpedro\u001b[39m\u001b[38;5;124m'\u001b[39m,\u001b[38;5;124m'\u001b[39m\u001b[38;5;124mid\u001b[39m\u001b[38;5;124m'\u001b[39m: \u001b[38;5;241m1\u001b[39m, \u001b[38;5;124m'\u001b[39m\u001b[38;5;124mnome\u001b[39m\u001b[38;5;124m'\u001b[39m: \u001b[38;5;124m'\u001b[39m\u001b[38;5;124mjoão\u001b[39m\u001b[38;5;124m'\u001b[39m, \u001b[38;5;124m'\u001b[39m\u001b[38;5;124mid\u001b[39m\u001b[38;5;124m'\u001b[39m: \u001b[38;5;241m1\u001b[39m, \u001b[38;5;124m'\u001b[39m\u001b[38;5;124mnome\u001b[39m\u001b[38;5;124m'\u001b[39m: \u001b[38;5;124m'\u001b[39m\u001b[38;5;124mVanesa\u001b[39m\u001b[38;5;124m'\u001b[39m}\n\u001b[1;32m----> 2\u001b[0m \u001b[38;5;28;01mfor\u001b[39;00m t \u001b[38;5;129;01min\u001b[39;00m te[\u001b[38;5;124m'\u001b[39m\u001b[38;5;124mid\u001b[39m\u001b[38;5;124m'\u001b[39m]:\n\u001b[0;32m      4\u001b[0m     \u001b[38;5;28mprint\u001b[39m(te)\n",
      "\u001b[1;31mTypeError\u001b[0m: 'int' object is not iterable"
     ]
    }
   ],
   "source": [
    "\n",
    "\n",
    "te = {'id': 1, 'nome': 'pedro','id': 1, 'nome': 'joão', 'id': 1, 'nome': 'Vanesa'}\n",
    "for t in te:\n",
    "  \n",
    "    print(te)\n",
    "\n"
   ]
  },
  {
   "cell_type": "code",
   "execution_count": 5,
   "id": "8a6b06ae",
   "metadata": {},
   "outputs": [],
   "source": [
    "\n",
    "data={'id': 14, 'carrinho': 1, 'produto': 2, 'quantidade_de_itens': 1}\n",
    "data = data[1]['carrinho'] = '2'"
   ]
  },
  {
   "cell_type": "code",
   "execution_count": 6,
   "id": "a9c10643",
   "metadata": {},
   "outputs": [
    {
     "data": {
      "text/plain": [
       "int"
      ]
     },
     "execution_count": 6,
     "metadata": {},
     "output_type": "execute_result"
    }
   ],
   "source": [
    "type(data)"
   ]
  },
  {
   "cell_type": "code",
   "execution_count": null,
   "id": "c8f40811",
   "metadata": {},
   "outputs": [],
   "source": []
  }
 ],
 "metadata": {
  "kernelspec": {
   "display_name": "Python 3",
   "language": "python",
   "name": "python3"
  },
  "language_info": {
   "codemirror_mode": {
    "name": "ipython",
    "version": 3
   },
   "file_extension": ".py",
   "mimetype": "text/x-python",
   "name": "python",
   "nbconvert_exporter": "python",
   "pygments_lexer": "ipython3",
   "version": "3.10.6"
  },
  "vscode": {
   "interpreter": {
    "hash": "916dbcbb3f70747c44a77c7bcd40155683ae19c65e1c03b4aa3499c5328201f1"
   }
  }
 },
 "nbformat": 4,
 "nbformat_minor": 5
}
