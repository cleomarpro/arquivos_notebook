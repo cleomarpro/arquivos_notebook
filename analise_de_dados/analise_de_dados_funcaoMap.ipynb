{
 "cells": [
  {
   "cell_type": "code",
   "execution_count": 1,
   "id": "2cf3b608",
   "metadata": {},
   "outputs": [
    {
     "name": "stdout",
     "output_type": "stream",
     "text": [
      "[62.5, 229.0, 229.5, 282.0, 228.0]\n"
     ]
    }
   ],
   "source": [
    "lista = [125,458,459,564,456] \n",
    "calculo = []\n",
    "for i in lista:\n",
    "    calculo.append(i/2) # utilozando o for in para percorrer uma lista calculado os valores\n",
    "print(calculo)"
   ]
  },
  {
   "cell_type": "code",
   "execution_count": null,
   "id": "74e31454",
   "metadata": {},
   "outputs": [],
   "source": [
    "lista = [125,458,459,564,456]\n",
    "\n",
    "calculo =list(map(lambda x: x / 2,lista))  # utilozando map para percorrer uma lista calculado os valores\n",
    "print(calculo)"
   ]
  },
  {
   "cell_type": "code",
   "execution_count": null,
   "id": "7710af51",
   "metadata": {},
   "outputs": [],
   "source": []
  },
  {
   "cell_type": "code",
   "execution_count": null,
   "id": "9e7a245b-f362-421c-bdb4-27b72bbfa7b3",
   "metadata": {},
   "outputs": [],
   "source": []
  }
 ],
 "metadata": {
  "kernelspec": {
   "display_name": "Python 3 (ipykernel)",
   "language": "python",
   "name": "python3"
  },
  "language_info": {
   "codemirror_mode": {
    "name": "ipython",
    "version": 3
   },
   "file_extension": ".py",
   "mimetype": "text/x-python",
   "name": "python",
   "nbconvert_exporter": "python",
   "pygments_lexer": "ipython3",
   "version": "3.9.12"
  }
 },
 "nbformat": 4,
 "nbformat_minor": 5
}
