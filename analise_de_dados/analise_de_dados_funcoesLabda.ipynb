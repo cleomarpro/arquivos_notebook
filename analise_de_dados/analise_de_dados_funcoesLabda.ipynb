{
 "cells": [
  {
   "cell_type": "code",
   "execution_count": 21,
   "id": "91e4efb1",
   "metadata": {},
   "outputs": [
    {
     "name": "stdout",
     "output_type": "stream",
     "text": [
      "48\n",
      "32\n"
     ]
    }
   ],
   "source": [
    "def calculo(a, b): # função normal\n",
    "    soma = a * b\n",
    "    return soma\n",
    "cal = calculo(4,12)\n",
    "print(cal)\n",
    "\n",
    "calculo = lambda a, b: a * b  # função lambda\n",
    "cal = soma2(4,8)\n",
    "print(cal)\n"
   ]
  },
  {
   "cell_type": "code",
   "execution_count": null,
   "id": "af54fe60",
   "metadata": {},
   "outputs": [],
   "source": []
  },
  {
   "cell_type": "code",
   "execution_count": null,
   "id": "1ed732d0",
   "metadata": {},
   "outputs": [],
   "source": []
  }
 ],
 "metadata": {
  "kernelspec": {
   "display_name": "Python 3 (ipykernel)",
   "language": "python",
   "name": "python3"
  },
  "language_info": {
   "codemirror_mode": {
    "name": "ipython",
    "version": 3
   },
   "file_extension": ".py",
   "mimetype": "text/x-python",
   "name": "python",
   "nbconvert_exporter": "python",
   "pygments_lexer": "ipython3",
   "version": "3.9.12"
  }
 },
 "nbformat": 4,
 "nbformat_minor": 5
}
