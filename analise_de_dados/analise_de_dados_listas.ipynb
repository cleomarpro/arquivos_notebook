{
 "cells": [
  {
   "cell_type": "code",
   "execution_count": 13,
   "id": "b66b50bc",
   "metadata": {
    "scrolled": false
   },
   "outputs": [
    {
     "name": "stdout",
     "output_type": "stream",
     "text": [
      "3\n",
      "joao\n"
     ]
    }
   ],
   "source": [
    "# acessando atributo numa lista\n",
    "\n",
    "lista = [{\"nome\":\"joao\"},1,[1,2,3],[3,4,5,[8,9,10]],6, ['rio','salvador','Goiânia']]\n",
    "lista1=lista[2][2]\n",
    "#lista2=lista[2][0][1]\n",
    "lista3=lista[0]['nome']\n",
    "print(lista1)\n",
    "#print(lista2)\n",
    "print(lista3)"
   ]
  },
  {
   "cell_type": "code",
   "execution_count": 14,
   "id": "1a180082",
   "metadata": {
    "scrolled": true
   },
   "outputs": [
    {
     "name": "stdout",
     "output_type": "stream",
     "text": [
      "['rio', 'salvador', 'Brasilia', 'canápolis']\n"
     ]
    }
   ],
   "source": [
    "#utilizando o append para inserir atributo na lista\n",
    "lista = ['rio','salvador','Goiânia']\n",
    "lista.append('canápolis') #utilizando o append para inserir atributo na lista\n",
    "lista[2]='Brasilia' # outra maneira de ensirir atributos na lista\n",
    "print(lista)"
   ]
  },
  {
   "cell_type": "code",
   "execution_count": 15,
   "id": "8d6a9c63",
   "metadata": {},
   "outputs": [
    {
     "name": "stdout",
     "output_type": "stream",
     "text": [
      "['rio', 'salvador', 'Goiânia']\n",
      "['rio', 'salvador', 'Goiânia', 'brasilia', 'pedra preta', 'são paulo']\n"
     ]
    }
   ],
   "source": [
    "#inserir uma lista dentro de lista\n",
    "lista2= ['rio','salvador','Goiânia']\n",
    "lista_a_ser_inserida = ['brasilia','pedra preta', 'são paulo']\n",
    "print(lista2)\n",
    "\n",
    "for item in lista_a_ser_inserida:\n",
    "    lista2.append(item)\n",
    "    \n",
    "print (lista2)"
   ]
  },
  {
   "cell_type": "code",
   "execution_count": 16,
   "id": "c4d212e2",
   "metadata": {},
   "outputs": [
    {
     "name": "stdout",
     "output_type": "stream",
     "text": [
      "[1, 2, 3]\n",
      "[1.0, 2.0, 3.0]\n"
     ]
    }
   ],
   "source": [
    "# muda o tipo de dado \n",
    "lista3 = [1,2,3]\n",
    "print(lista3)\n",
    "\n",
    "nova_lista = []\n",
    "for item in lista3:\n",
    "    nova_lista.append(float(item))\n",
    "print(nova_lista)"
   ]
  },
  {
   "cell_type": "code",
   "execution_count": 17,
   "id": "abf2387a",
   "metadata": {},
   "outputs": [
    {
     "name": "stdout",
     "output_type": "stream",
     "text": [
      "[1, 3]\n"
     ]
    }
   ],
   "source": [
    "# deletar um atributo\n",
    "lista = [1,2,3]\n",
    "del(lista[1])\n",
    "print(lista)"
   ]
  },
  {
   "cell_type": "code",
   "execution_count": 18,
   "id": "2b9aa3bb",
   "metadata": {},
   "outputs": [
    {
     "name": "stdout",
     "output_type": "stream",
     "text": [
      "[1, 2]\n"
     ]
    }
   ],
   "source": [
    "# Modificar um atributo\n",
    "lista[1] = 2 \n",
    "print(lista)"
   ]
  },
  {
   "cell_type": "code",
   "execution_count": 26,
   "id": "80ae01b7",
   "metadata": {},
   "outputs": [
    {
     "name": "stdout",
     "output_type": "stream",
     "text": [
      "101\n"
     ]
    }
   ],
   "source": [
    "id= [{'id': 101, 'total': '0.00', 'frete': '0.00', 'subtotal': '0.00', 'cliente': '1', 'checkout': 'false'}]\n",
    "id = id[0]['id']\n",
    "print(id)"
   ]
  },
  {
   "cell_type": "code",
   "execution_count": null,
   "id": "91535a69",
   "metadata": {},
   "outputs": [],
   "source": []
  }
 ],
 "metadata": {
  "kernelspec": {
   "display_name": "Python 3",
   "language": "python",
   "name": "python3"
  },
  "language_info": {
   "codemirror_mode": {
    "name": "ipython",
    "version": 3
   },
   "file_extension": ".py",
   "mimetype": "text/x-python",
   "name": "python",
   "nbconvert_exporter": "python",
   "pygments_lexer": "ipython3",
   "version": "3.10.6"
  },
  "vscode": {
   "interpreter": {
    "hash": "916dbcbb3f70747c44a77c7bcd40155683ae19c65e1c03b4aa3499c5328201f1"
   }
  }
 },
 "nbformat": 4,
 "nbformat_minor": 5
}
