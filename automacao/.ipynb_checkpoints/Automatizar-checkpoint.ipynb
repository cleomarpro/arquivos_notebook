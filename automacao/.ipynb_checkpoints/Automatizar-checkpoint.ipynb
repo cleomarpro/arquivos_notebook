{
 "cells": [
  {
   "cell_type": "code",
   "execution_count": 1,
   "id": "a2d950ae",
   "metadata": {},
   "outputs": [],
   "source": [
    "#INSTRUÇOES\n",
    "# instalar o pyautogui (!pip install pyautogui)\n",
    "import  pyautogui\n",
    "import pyperclip # trabalhar com caracteres espesiais\n",
    "import pandas\n",
    "#pyautogui.click - clicar\n",
    "#pyautogui.write -> escrever\n",
    "#pyautogui.press -> presionar\n",
    "#pyautogui.hotkey -> atalho\n",
    "#pyautogui.position() -> Pegar a posição do mouser\n",
    "#pyautogui.FAILSAFE=True -> pausar o pyautogui au posicionar o mause no conto superior esquedo da tela\n",
    "#pyautogui.PAUSE -> pausar um determinado  periodo\n"
   ]
  },
  {
   "cell_type": "code",
   "execution_count": 63,
   "id": "a1249b98",
   "metadata": {},
   "outputs": [],
   "source": [
    "import  pyautogui\n",
    "import pyperclip # trabalhar com caracteres espesiais\n",
    "import pandas\n",
    "import time\n",
    "\n",
    "#passo:1, entrar no sistema da empresa(link)\n",
    "pyautogui.press('win')\n",
    "pyautogui.write('edge')\n",
    "pyautogui.press('enter')\n",
    "pyperclip.copy('https://drive.google.com/drive/folders/149xknr9JvrlEnhNWO49zPcw0PW5icxga')\n",
    "pyautogui.hotkey(\"ctrl\", \"v\")\n",
    "pyautogui.press('enter')\n",
    "#passo:2, navegar até o local do relatório\n",
    "#passo:3,explorar o relatório(fazer o download)\n",
    "time.sleep(5)\n",
    "pyautogui.click(x=332, y=297, clicks=2)\n",
    "pyautogui.click(x=355, y=371, button='left')\n",
    "pyautogui.click(x=1105, y=189)\n",
    "pyautogui.click(x=860, y=597)\n",
    "#passo:4,colocar as indicadores(faturamento e quantidades de produtos)\n",
    "time.sleep(5)\n",
    "tabela = pandas.read_excel(r\"arquivos\\vendas.xlsx\")\n",
    "#print(tabela)\n",
    "faturamento = tabela['Valor Final'].sum()\n",
    "quantidade = tabela['Quantidade'].sum()\n",
    "#print(faturamento)\n",
    "#print(quantidade)\n",
    "\n",
    "#passo:5, enviar um email para o diretório\n",
    "pyautogui.hotkey(\"ctrl\", \"t\")\n",
    "pyperclip.copy('https://outlook.live.com/mail/0/')\n",
    "pyautogui.hotkey(\"ctrl\", \"v\")\n",
    "pyautogui.press('enter')\n",
    "time.sleep(5)\n",
    "pyautogui.click(x=181, y=203)\n",
    "time.sleep(5)\n",
    "pyautogui.write('cleomar-pro@outlook.com')\n",
    "pyautogui.press('tab')\n",
    "pyautogui.press('tab')\n",
    "pyperclip.copy('Relatório das fendas')\n",
    "pyautogui.hotkey(\"ctrl\", \"v\")\n",
    "pyautogui.press('tab')\n",
    "texto= f\"\"\" \n",
    "        o faturamento foi: R${faturamento:,.2f}.\n",
    "        e a quantidade foi: {quantidade:,.2f}\n",
    "\"\"\"\n",
    "pyperclip.copy(texto)\n",
    "pyautogui.hotkey(\"ctrl\", \"v\")\n",
    "time.sleep(2)\n",
    "pyautogui.hotkey(\"ctrl\", \"enter\")\n",
    "time.sleep(2)\n",
    "pyautogui.hotkey(\"ctrl\", \"w\")\n",
    "pyautogui.hotkey(\"ctrl\", \"enter\")\n",
    "pyautogui.hotkey(\"ctrl\", \"w\")\n",
    "pyautogui.hotkey(\"ctrl\", \"enter\")"
   ]
  },
  {
   "cell_type": "code",
   "execution_count": 18,
   "id": "c0b36a63",
   "metadata": {},
   "outputs": [
    {
     "name": "stdout",
     "output_type": "stream",
     "text": [
      "      Código Venda       Data                     ID Loja           Produto  \\\n",
      "0            65014 2019-12-01            Shopping Morumbi    Sunga Listrado   \n",
      "1            65014 2019-12-01            Shopping Morumbi   Casaco Listrado   \n",
      "2            65016 2019-12-01           Iguatemi Campinas   Sapato Listrado   \n",
      "3            65016 2019-12-01           Iguatemi Campinas            Casaco   \n",
      "4            65017 2019-12-01          Shopping SP Market        Gorro Liso   \n",
      "...            ...        ...                         ...               ...   \n",
      "7084         69996 2019-12-26  Center Shopping Uberlândia    Short Listrado   \n",
      "7085         69996 2019-12-26  Center Shopping Uberlândia           Mochila   \n",
      "7086         69996 2019-12-26  Center Shopping Uberlândia  Pulseira Estampa   \n",
      "7087         69997 2019-12-26           Ribeirão Shopping   Camisa Listrado   \n",
      "7088         69997 2019-12-26           Ribeirão Shopping       Short Linho   \n",
      "\n",
      "      Quantidade  Valor Unitário  Valor Final  \n",
      "0              5             114          570  \n",
      "1              1             269          269  \n",
      "2              2             363          726  \n",
      "3              1             250          250  \n",
      "4              3              92          276  \n",
      "...          ...             ...          ...  \n",
      "7084           2             102          204  \n",
      "7085           4             270         1080  \n",
      "7086           1              87           87  \n",
      "7087           1             108          108  \n",
      "7088           2             133          266  \n",
      "\n",
      "[7089 rows x 7 columns]\n"
     ]
    }
   ],
   "source": [
    "tabela = pandas.read_excel(r\"arquivos\\vendas.xlsx\")\n",
    "print(tabela)"
   ]
  },
  {
   "cell_type": "code",
   "execution_count": null,
   "id": "76e24457",
   "metadata": {},
   "outputs": [],
   "source": []
  },
  {
   "cell_type": "code",
   "execution_count": null,
   "id": "8ccf71d5",
   "metadata": {},
   "outputs": [],
   "source": []
  }
 ],
 "metadata": {
  "kernelspec": {
   "display_name": "Python 3 (ipykernel)",
   "language": "python",
   "name": "python3"
  },
  "language_info": {
   "codemirror_mode": {
    "name": "ipython",
    "version": 3
   },
   "file_extension": ".py",
   "mimetype": "text/x-python",
   "name": "python",
   "nbconvert_exporter": "python",
   "pygments_lexer": "ipython3",
   "version": "3.9.12"
  }
 },
 "nbformat": 4,
 "nbformat_minor": 5
}
