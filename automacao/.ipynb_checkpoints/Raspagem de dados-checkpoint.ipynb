{
 "cells": [
  {
   "cell_type": "code",
   "execution_count": null,
   "id": "c6afaa8c",
   "metadata": {},
   "outputs": [],
   "source": [
    "#passo 1: pegar a cotação do dolar\n",
    "#passo 2: pegar a cotação do euro\n",
    "#passo 3: pegar a cotação do ouro\n",
    "#passo 4: importar i atualizar a base de dados\n",
    "#pass 5: recalcular a base\n",
    "#PASSO 6: EXPORTAR A BASE ATUALIZADA"
   ]
  },
  {
   "cell_type": "code",
   "execution_count": 2,
   "id": "7b535000",
   "metadata": {},
   "outputs": [],
   "source": [
    "#RECURSOS\n",
    "\n",
    "#!pip install selenium\n",
    "#baixar o chomedrive e cola dentro da pasta do anaconda3 \n"
   ]
  },
  {
   "cell_type": "code",
   "execution_count": 46,
   "id": "1c8f2157",
   "metadata": {},
   "outputs": [
    {
     "name": "stdout",
     "output_type": "stream",
     "text": [
      "5.1015999999999995\n",
      "5.5241999999999996\n",
      "315,34\n"
     ]
    }
   ],
   "source": [
    "from selenium import webdriver\n",
    "from selenium.webdriver.common.keys import Keys\n",
    "import pandas as pd\n",
    "\n",
    "#passo 1: pegar a cotação do dolar\n",
    "navegador = webdriver.Chrome()\n",
    "navegador.get('https://www.google.com.br/')\n",
    "navegador.find_element('xpath', '/html/body/div[1]/div[3]/form/div[1]/div[1]/div[1]/div/div[2]/input').send_keys('cotação dolar')\n",
    "navegador.find_element('xpath', '/html/body/div[1]/div[3]/form/div[1]/div[1]/div[1]/div/div[2]/input').send_keys(Keys.ENTER)\n",
    "cotacao_do_dolar= navegador.find_element('xpath', '//*[@id=\"knowledge-currency__updatable-data-column\"]/div[1]/div[2]/span[1]').get_attribute('data-value')\n",
    "print(cotacao_do_dolar)\n",
    "\n",
    "#passo 2: pegar a cotação do euro\n",
    "navegador = webdriver.Chrome()\n",
    "navegador.get('https://www.google.com.br/')\n",
    "navegador.find_element('xpath', '/html/body/div[1]/div[3]/form/div[1]/div[1]/div[1]/div/div[2]/input').send_keys('cotação euro')\n",
    "navegador.find_element('xpath', '/html/body/div[1]/div[3]/form/div[1]/div[1]/div[1]/div/div[2]/input').send_keys(Keys.ENTER)\n",
    "cotacao_do_euro= navegador.find_element('xpath', '//*[@id=\"knowledge-currency__updatable-data-column\"]/div[1]/div[2]/span[1]').get_attribute('data-value')\n",
    "print(cotacao_do_euro)\n",
    "\n",
    "#passo 3: pegar a cotação do ouro\n",
    "navegador = webdriver.Chrome()\n",
    "navegador.get('https://www.melhorcambio.com/ouro-hoje')\n",
    "cotacao_do_ouro= navegador.find_element('xpath', '//*[@id=\"comercial\"]').get_attribute('value')\n",
    "print(cotacao_do_ouro)\n",
    "navegador.quit()\n",
    "\n"
   ]
  },
  {
   "cell_type": "code",
   "execution_count": 76,
   "id": "1743c50e",
   "metadata": {},
   "outputs": [
    {
     "name": "stdout",
     "output_type": "stream",
     "text": [
      "         Produtos  Preço Original  Moeda   Cotação  Preço de Compra  Margem  \\\n",
      "0    Câmera Canon          999.99  Dólar    5.1016      5101.548984    1.40   \n",
      "1   Carro Renault         4500.00   Euro    5.5242     24858.900000    2.00   \n",
      "2   Notebook Dell          899.99  Dólar    5.1016      4591.388984    1.70   \n",
      "3          IPhone          799.00  Dólar    5.1016      4076.178400    1.70   \n",
      "4      Carro Fiat         3000.00   Euro    5.5242     16572.600000    1.90   \n",
      "5  Celular Xiaomi          480.48  Dólar    5.1016      2451.216768    2.00   \n",
      "6        Joia 20g           20.00   Ouro  315.3400      6306.800000    1.15   \n",
      "\n",
      "   Preço de Venda  \n",
      "0     7142.168578  \n",
      "1    49717.800000  \n",
      "2     7805.361273  \n",
      "3     6929.503280  \n",
      "4    31487.940000  \n",
      "5     4902.433536  \n",
      "6     7252.820000  \n"
     ]
    }
   ],
   "source": [
    "#passo 4: importar i atualizar a base de dados\n",
    "import pandas as pd\n",
    "tabela = pd.read_excel(r\"arquivos\\Produtos.xlsx\")\n",
    "\n",
    "# - atualizar o dolar na tabela\n",
    "tabela.loc[tabela['Moeda'] == 'Dólar', 'Cotação'] = float(cotacao_do_dolar)\n",
    "\n",
    "# - atualizar o euro na tabela\n",
    "tabela.loc[tabela['Moeda'] == 'Euro', 'Cotação'] = float(cotacao_do_euro)\n",
    "\n",
    "# - atualizar o ouro na tabela\n",
    "tabela.loc[tabela['Moeda'] == 'Ouro', 'Cotação'] = float(cotacao_do_ouro)\n",
    "\n",
    "# atualizar preço de compra\n",
    "tabela['Preço de Compra'] = tabela['Cotação'] * tabela['Preço Original']\n",
    "#atualizar preço de venda\n",
    "\n",
    "tabela['Preço de Venda'] = tabela['Preço de Compra'] * tabela['Margem']\n",
    "print(tabela)\n"
   ]
  },
  {
   "cell_type": "code",
   "execution_count": 78,
   "id": "abaed509",
   "metadata": {},
   "outputs": [],
   "source": [
    "#PASSO 6: EXPORTAR A BASE ATUALIZADA\n",
    "tabela.to_excel('arquivos\\Produtos.xlsx', index=False)"
   ]
  },
  {
   "cell_type": "code",
   "execution_count": null,
   "id": "4d85f44b",
   "metadata": {},
   "outputs": [],
   "source": []
  }
 ],
 "metadata": {
  "kernelspec": {
   "display_name": "Python 3 (ipykernel)",
   "language": "python",
   "name": "python3"
  },
  "language_info": {
   "codemirror_mode": {
    "name": "ipython",
    "version": 3
   },
   "file_extension": ".py",
   "mimetype": "text/x-python",
   "name": "python",
   "nbconvert_exporter": "python",
   "pygments_lexer": "ipython3",
   "version": "3.9.12"
  }
 },
 "nbformat": 4,
 "nbformat_minor": 5
}
