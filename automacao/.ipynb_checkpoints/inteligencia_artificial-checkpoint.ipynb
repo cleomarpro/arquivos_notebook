{
 "cells": [
  {
   "cell_type": "code",
   "execution_count": null,
   "id": "a63b3696",
   "metadata": {},
   "outputs": [],
   "source": [
    "# INSTRUÇÃO\n",
    "\n",
    "#!pip install matplotlib\n",
    "#!pip install seaborn\n",
    "#!pip install scikit-learn"
   ]
  },
  {
   "cell_type": "code",
   "execution_count": 1,
   "id": "fe462664",
   "metadata": {},
   "outputs": [
    {
     "name": "stdout",
     "output_type": "stream",
     "text": [
      "        TV  Radio  Jornal  Vendas\n",
      "0    230.1   37.8    69.2    22.1\n",
      "1     44.5   39.3    45.1    10.4\n",
      "2     17.2   45.9    69.3    12.0\n",
      "3    151.5   41.3    58.5    16.5\n",
      "4    180.8   10.8    58.4    17.9\n",
      "..     ...    ...     ...     ...\n",
      "195   38.2    3.7    13.8     7.6\n",
      "196   94.2    4.9     8.1    14.0\n",
      "197  177.0    9.3     6.4    14.8\n",
      "198  283.6   42.0    66.2    25.5\n",
      "199  232.1    8.6     8.7    18.4\n",
      "\n",
      "[200 rows x 4 columns]\n",
      "<class 'pandas.core.frame.DataFrame'>\n",
      "RangeIndex: 200 entries, 0 to 199\n",
      "Data columns (total 4 columns):\n",
      " #   Column  Non-Null Count  Dtype  \n",
      "---  ------  --------------  -----  \n",
      " 0   TV      200 non-null    float64\n",
      " 1   Radio   200 non-null    float64\n",
      " 2   Jornal  200 non-null    float64\n",
      " 3   Vendas  200 non-null    float64\n",
      "dtypes: float64(4)\n",
      "memory usage: 6.4 KB\n",
      "None\n",
      "              TV     Radio    Jornal    Vendas\n",
      "TV      1.000000  0.054809  0.056648  0.901208\n",
      "Radio   0.054809  1.000000  0.354104  0.349631\n",
      "Jornal  0.056648  0.354104  1.000000  0.157960\n",
      "Vendas  0.901208  0.349631  0.157960  1.000000\n"
     ]
    }
   ],
   "source": [
    "#importar a base de dados\n",
    "import pandas\n",
    "import matplotlib.pyplot as plt\n",
    "import seaborn as sns\n",
    "# importar base de dados eexibir tabela\n",
    "tabela = pandas.read_csv(r\"arquivos\\advertising.csv\")\n",
    "print(tabela)\n",
    "# indentificar e tratar os dados ds base de dados\n",
    "print(tabela.info())\n",
    "print(tabela.corr())\n"
   ]
  },
  {
   "cell_type": "code",
   "execution_count": 2,
   "id": "b08c6ad9",
   "metadata": {},
   "outputs": [
    {
     "data": {
      "image/png": "[encoded data removed]",
      "text/plain": [
       "<Figure size 432x288 with 2 Axes>"
      ]
     },
     "metadata": {
      "needs_background": "light"
     },
     "output_type": "display_data"
    }
   ],
   "source": [
    "\n",
    "#CRIAR GRÁFICA\n",
    "sns.heatmap(tabela.corr(), cmap='Reds', annot=True)\n",
    "plt.show()"
   ]
  },
  {
   "cell_type": "code",
   "execution_count": 22,
   "id": "3c3f6fdd",
   "metadata": {},
   "outputs": [],
   "source": [
    "# usando inteligencia artificial\n",
    "\n",
    "from sklearn.model_selection import train_test_split\n",
    "\n",
    "y = tabela['Vendas']\n",
    "x = tabela[['TV', 'Radio', 'Jornal']]\n",
    "\n",
    "x_treino, x_teste, y_treino, y_teste = train_test_split(x, y, test_size=0.3, random_state=1)"
   ]
  },
  {
   "cell_type": "code",
   "execution_count": 23,
   "id": "58875689",
   "metadata": {},
   "outputs": [
    {
     "data": {
      "text/plain": [
       "RandomForestRegressor()"
      ]
     },
     "execution_count": 23,
     "metadata": {},
     "output_type": "execute_result"
    }
   ],
   "source": [
    "# importar a inteligencia artificial\n",
    "\n",
    "from sklearn.linear_model import LinearRegression\n",
    "from sklearn.ensemble import RandomForestRegressor\n",
    "\n",
    "#criar a inteligência artificialLinearRegression\n",
    "modelo_regrecao_linear = LinearRegression()\n",
    "modelo_arvore_de_decicao = RandomForestRegressor()\n",
    "\n",
    "#treinar a inteligencia artificial\n",
    "\n",
    "modelo_regrecao_linear.fit(x_treino, y_treino)\n",
    "modelo_arvore_de_decicao.fit(x_treino, y_treino)\n",
    "\n"
   ]
  },
  {
   "cell_type": "code",
   "execution_count": 25,
   "id": "742b89c5",
   "metadata": {},
   "outputs": [
    {
     "ename": "AttributeError",
     "evalue": "'numpy.ndarray' object has no attribute 'predict'",
     "output_type": "error",
     "traceback": [
      "\u001b[1;31m---------------------------------------------------------------------------\u001b[0m",
      "\u001b[1;31mAttributeError\u001b[0m                            Traceback (most recent call last)",
      "Input \u001b[1;32mIn [25]\u001b[0m, in \u001b[0;36m<cell line: 5>\u001b[1;34m()\u001b[0m\n\u001b[0;32m      3\u001b[0m \u001b[38;5;66;03m# criar as previsoes\u001b[39;00m\n\u001b[0;32m      4\u001b[0m previsao_regrecao_linear \u001b[38;5;241m=\u001b[39m modelo_regrecao_linear\u001b[38;5;241m.\u001b[39mpredict(x_teste)\n\u001b[1;32m----> 5\u001b[0m previsao_arvore_de_decicao \u001b[38;5;241m=\u001b[39m \u001b[43mmodelo_arvore_de_decicao\u001b[49m\u001b[38;5;241;43m.\u001b[39;49m\u001b[43mpredict\u001b[49m(x_teste)\n\u001b[0;32m      7\u001b[0m \u001b[38;5;66;03m# comparar os modelos\u001b[39;00m\n\u001b[0;32m      8\u001b[0m \u001b[38;5;28mprint\u001b[39m(metrics\u001b[38;5;241m.\u001b[39mr2_score(y_teste, previsao_arvore_de_decicao))\n",
      "\u001b[1;31mAttributeError\u001b[0m: 'numpy.ndarray' object has no attribute 'predict'"
     ]
    }
   ],
   "source": [
    "from sklearn import metrics\n",
    "\n",
    "# criar as previsoes\n",
    "previsao_regrecao_linear = modelo_regrecao_linear.predict(x_teste)\n",
    "previsao_arvore_de_decicao = modelo_arvore_de_decicao.predict(x_teste)\n",
    "\n",
    "# comparar os modelos\n",
    "print(metrics.r2_score(y_teste, previsao_arvore_de_decicao))\n",
    "print(metrics.r2_score(y_teste, previsao_arvore_de_decicao))"
   ]
  },
  {
   "cell_type": "code",
   "execution_count": null,
   "id": "7effebb2",
   "metadata": {},
   "outputs": [],
   "source": []
  },
  {
   "cell_type": "code",
   "execution_count": null,
   "id": "f6ade8f2",
   "metadata": {},
   "outputs": [],
   "source": []
  },
  {
   "cell_type": "code",
   "execution_count": null,
   "id": "2b844f08",
   "metadata": {},
   "outputs": [],
   "source": []
  },
  {
   "cell_type": "code",
   "execution_count": null,
   "id": "5c865d9e",
   "metadata": {},
   "outputs": [],
   "source": []
  }
 ],
 "metadata": {
  "kernelspec": {
   "display_name": "Python 3 (ipykernel)",
   "language": "python",
   "name": "python3"
  },
  "language_info": {
   "codemirror_mode": {
    "name": "ipython",
    "version": 3
   },
   "file_extension": ".py",
   "mimetype": "text/x-python",
   "name": "python",
   "nbconvert_exporter": "python",
   "pygments_lexer": "ipython3",
   "version": "3.9.12"
  }
 },
 "nbformat": 4,
 "nbformat_minor": 5
}
