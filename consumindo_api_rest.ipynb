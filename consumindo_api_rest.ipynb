{
 "cells": [
  {
   "cell_type": "code",
   "execution_count": 2,
   "id": "47749d3d",
   "metadata": {},
   "outputs": [],
   "source": [
    "#print(response.status_code) # código de erro ou de sucesso\n",
    "#print(response.reason) # tipo de resposta\n",
    "#print(response.text) # resposta em texto\n",
    "#print(response.json()) # resposta em json\n",
    "#print(response.content) # token segundário Accept, Cookie\n",
    "#print(response)"
   ]
  },
  {
   "cell_type": "code",
   "execution_count": null,
   "id": "4b7f2a3e",
   "metadata": {},
   "outputs": [],
   "source": [
    "import requests\n",
    "import json\n",
    "url = 'http://localhost:7000/token/'\n",
    "user_data = {\n",
    "    \"username\": \"admin\",\n",
    "    \"password\": \"4455456\"\n",
    "}\n",
    "response = requests.post(url=url, json = user_data)\n",
    "response_deta = response.json()\n",
    "token = response_deta['access']\n",
    "headers = {\"Authorization\": \"Bearer \"+token}\n",
    "print(headers)\n"
   ]
  },
  {
   "cell_type": "code",
   "execution_count": null,
   "id": "34ca117e",
   "metadata": {},
   "outputs": [],
   "source": [
    "#Get um unico objeto\n",
    "id = '95'\n",
    "url = 'http://127.0.0.1:8000/entrada_de_mercadoria/'+id\n",
    "response = requests.get(url = url, headers= headers)\n",
    "print(response)\n",
    "print(response.json())"
   ]
  },
  {
   "cell_type": "code",
   "execution_count": null,
   "id": "d0d33fdb",
   "metadata": {},
   "outputs": [],
   "source": [
    "#GET todos objetos\n",
    "url = 'http://127.0.0.1:8000/entrada_de_mercadoria/'\n",
    "response = requests.get(url = url, headers= headers)\n",
    "print(response.status_code)\n",
    "print(response.json())"
   ]
  },
  {
   "cell_type": "code",
   "execution_count": null,
   "id": "60ed0fb1",
   "metadata": {},
   "outputs": [],
   "source": [
    "#POST\n",
    "url = 'http://127.0.0.1:8000/entrada_de_mercadoria/'\n",
    "response_data = {\"quantidade\": \"25\", \"produto\":1}\n",
    "response = requests.post(url = url, data=response_data, headers=headers)\n",
    "print(response.status_code)\n",
    "print(response.json())"
   ]
  },
  {
   "cell_type": "code",
   "execution_count": 9,
   "id": "a6a3bfa3",
   "metadata": {},
   "outputs": [
    {
     "name": "stdout",
     "output_type": "stream",
     "text": [
      "500\n",
      "404\n"
     ]
    }
   ],
   "source": [
    "#PUT\n",
    "id='130'\n",
    "url = 'http://127.0.0.1:8000/produto/'+id\n",
    "response_data =  {\"quantidade\": \"9999\",\"produto\": 1}\n",
    "response = requests.put(url, data=response_data, headers=headers)\n",
    "print(response.status_code)\n",
    "try:\n",
    "    print(response.json())\n",
    "except:\n",
    "    print('404')"
   ]
  },
  {
   "cell_type": "code",
   "execution_count": 130,
   "id": "950bd739",
   "metadata": {},
   "outputs": [
    {
     "name": "stdout",
     "output_type": "stream",
     "text": [
      "200\n",
      "OK\n"
     ]
    }
   ],
   "source": [
    "#DELETE\n",
    "id = '102'\n",
    "url = \"http://127.0.0.1:8000/entrada_de_mercadoria/\"+id\n",
    "response = requests.delete(url = url, headers= headers)\n",
    "print(response.status_code)\n",
    "print(response.reason)"
   ]
  },
  {
   "cell_type": "code",
   "execution_count": null,
   "id": "2cd754ef",
   "metadata": {},
   "outputs": [],
   "source": []
  },
  {
   "cell_type": "code",
   "execution_count": null,
   "id": "e4b82f04",
   "metadata": {},
   "outputs": [],
   "source": []
  },
  {
   "cell_type": "code",
   "execution_count": null,
   "id": "88c04edc",
   "metadata": {},
   "outputs": [],
   "source": []
  },
  {
   "cell_type": "code",
   "execution_count": null,
   "id": "15932bf3",
   "metadata": {},
   "outputs": [],
   "source": []
  },
  {
   "cell_type": "code",
   "execution_count": null,
   "id": "13d730f9",
   "metadata": {},
   "outputs": [],
   "source": []
  }
 ],
 "metadata": {
  "kernelspec": {
   "display_name": "Python 3 (ipykernel)",
   "language": "python",
   "name": "python3"
  },
  "language_info": {
   "codemirror_mode": {
    "name": "ipython",
    "version": 3
   },
   "file_extension": ".py",
   "mimetype": "text/x-python",
   "name": "python",
   "nbconvert_exporter": "python",
   "pygments_lexer": "ipython3",
   "version": "3.10.6"
  }
 },
 "nbformat": 4,
 "nbformat_minor": 5
}
