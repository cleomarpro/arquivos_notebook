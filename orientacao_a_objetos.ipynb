{
 "cells": [
  {
   "cell_type": "code",
   "execution_count": 10,
   "id": "828586c8",
   "metadata": {},
   "outputs": [
    {
     "name": "stdout",
     "output_type": "stream",
     "text": [
      "18\n"
     ]
    }
   ],
   "source": [
    "class InitCalcular:\n",
    "    def __init__(self, v:float, i:float):\n",
    "        self.valor1 = v\n",
    "        self.valor2 = i\n",
    "    def incremento(self): # metodo somar\n",
    "        self.valor1 = self.valor1 + self.valor2\n",
    "        return self.valor1\n",
    "\n",
    "a = InitCalcular(8,10)\n",
    "a = a.incremento()\n",
    "\n",
    "print(a)\n",
    "\n"
   ]
  },
  {
   "cell_type": "code",
   "execution_count": 1,
   "id": "2836e5a2",
   "metadata": {},
   "outputs": [
    {
     "name": "stdout",
     "output_type": "stream",
     "text": [
      "11\n",
      "5\n",
      "13\n",
      "410\n",
      "10\n",
      "2\n",
      "8\n",
      "10\n",
      "b 18\n"
     ]
    }
   ],
   "source": [
    "def calculando(a,b): # metodo somar\n",
    "    c = a +b\n",
    "    return c\n",
    "\n",
    "d = calculando(5, 6) # chamando o método\n",
    "print(d)\n",
    "\n",
    "class calcular: \n",
    "    d = calculando(2, 3) # chamando o metodo dentro da classe\n",
    "    print(d)\n",
    "\n",
    "# dentro das classes pode ter vários métodos\n",
    "class calculos: \n",
    "    def calculando(a,b): # metodo somar\n",
    "        c = a +b\n",
    "        return c\n",
    "\n",
    "    def multiplicar(a,b): # metodo somar\n",
    "        c = a * b\n",
    "        return c\n",
    "\n",
    "\n",
    "a = calculos # acessando a classe\n",
    "d= a.calculando(5, 8) # chamando o primeiro metodo dentro da classe\n",
    "print(d)\n",
    "\n",
    "m= a.multiplicar(5, 82) # chamando o segundo metodo dentro da classe\n",
    "print(m)\n",
    "\n",
    "# utilizando o selfe dentro da classe\n",
    "class SelfCalcular:\n",
    "    def calcular(self, b, c): # o self serve para acessar as variávelis de fora da classe\n",
    "        self.valor1 = b\n",
    "        self.valor2 = c\n",
    "        self.resultado = self.valor1 + self.valor2\n",
    "        return self.resultado\n",
    "re = SelfCalcular() # re equivale ao self e pode acessar as variácelis atraves dele\n",
    "r = re.calcular(2,8)\n",
    "print(r)\n",
    "\n",
    "# acessando as variáveis da classe SelfCalcular\n",
    "a = re.valor1\n",
    "print(a)\n",
    "b = re.valor2\n",
    "print(b)\n",
    "c = re.resultado\n",
    "print(c)\n",
    "\n",
    "# utinlizando o metodo __init__ dentro da classe\n",
    "class InitCalcular:\n",
    "    def __init__(self, v:float, i:float):\n",
    "        self.valor1 = v\n",
    "        self.valor2 = i\n",
    "    def incremento(self): # metodo somar\n",
    "        self.valor1 = self.valor1 + self.valor2\n",
    "        return self.valor1\n",
    "        \n",
    "\n",
    "a = InitCalcular(8,10)\n",
    "a= a.incremento()\n",
    "print ('b',a)"
   ]
  },
  {
   "cell_type": "code",
   "execution_count": 2,
   "id": "fe796971",
   "metadata": {},
   "outputs": [
    {
     "data": {
      "text/plain": [
       "12"
      ]
     },
     "execution_count": 2,
     "metadata": {},
     "output_type": "execute_result"
    }
   ],
   "source": [
    "class InitCalcularComAruumentos:\n",
    "    def __init__(self, v=11, i=1): # com valores definidos\n",
    "        self.valor1 = v\n",
    "        self.valor2 = i\n",
    "    def incremento(self): # metodo somar\n",
    "        self.valor1 = self.valor1 + self.valor2\n",
    "        #return self.valor1\n",
    "        \n",
    "\n",
    "a = InitCalcularComAruumentos()\n",
    "a.incremento()\n",
    "a.valor1"
   ]
  },
  {
   "cell_type": "code",
   "execution_count": null,
   "id": "3ac49ef9",
   "metadata": {},
   "outputs": [],
   "source": []
  },
  {
   "cell_type": "code",
   "execution_count": null,
   "id": "ca49e54b",
   "metadata": {},
   "outputs": [],
   "source": []
  }
 ],
 "metadata": {
  "kernelspec": {
   "display_name": "Python 3 (ipykernel)",
   "language": "python",
   "name": "python3"
  },
  "language_info": {
   "codemirror_mode": {
    "name": "ipython",
    "version": 3
   },
   "file_extension": ".py",
   "mimetype": "text/x-python",
   "name": "python",
   "nbconvert_exporter": "python",
   "pygments_lexer": "ipython3",
   "version": "3.9.12"
  }
 },
 "nbformat": 4,
 "nbformat_minor": 5
}
