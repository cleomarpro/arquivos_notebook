{
 "cells": [
  {
   "cell_type": "code",
   "execution_count": null,
   "id": "8282ecbd",
   "metadata": {},
   "outputs": [],
   "source": [
    "#!pip install beautifulsoup4\n",
    "#!pip install selenium\n",
    "#!pip install pandas\n",
    "#!pip install lxml\n",
    "#!pip install html5lib"
   ]
  },
  {
   "cell_type": "code",
   "execution_count": null,
   "id": "56a48293",
   "metadata": {},
   "outputs": [],
   "source": [
    "from selenium import webdriver\n",
    "from selenium.webdriver.common.keys import Keys\n",
    "from selenium.webdriver.common.by import By\n",
    "import pandas as pd\n",
    "import time\n",
    "\n",
    "url = \"https://checkout.juno.com.br/#/checkout/CE354B5C1F46D5D069ED1451B0523DEF73103F0CB4BBF599/oldLink\"\n",
    "navegador = webdriver.Chrome()\n",
    "time.sleep(2)\n",
    "navegador.get(url)\n",
    "time.sleep(5)\n",
    "descrica = navegador.find_element(By.NAME, '//*[@id=\"root\"]//div//div//main//div//div[2]//div[3]') #_by_xpath(\"//div[@class='Field__Container-sc-19xv3cn-1 hbWbjV']\")\n",
    "navegador.quit()\n",
    "\n",
    "print(descrica)"
   ]
  },
  {
   "cell_type": "code",
   "execution_count": null,
   "id": "a4e4db44",
   "metadata": {},
   "outputs": [],
   "source": [
    "descricaa = navegador.find_element('xpath', '//*[@id=\"root\"]//div//div//main//div//div[2]//div[3]') #_by_xpath(\"//div[@class='Field__Container-sc-19xv3cn-1 hbWbjV']\")\n",
    "\n",
    "print(descricaa)"
   ]
  },
  {
   "cell_type": "code",
   "execution_count": 19,
   "id": "dc2fbc75",
   "metadata": {},
   "outputs": [
    {
     "name": "stdout",
     "output_type": "stream",
     "text": [
      "valor:  5.2794\n"
     ]
    }
   ],
   "source": [
    "\n",
    "import requests\n",
    "import json\n",
    "\n",
    "from bs4 import BeautifulSoup\n",
    "\n",
    "headers = {'User-Agent':\"Mozilla/5.0 (Windows NT 10.0; Win64; x64) AppleWebKit/537.36 (KHTML, like Gecko) Chrome/109.0.0.0 Safari/537.36\"}\n",
    "url = \"https://www.google.com/search?q=cota%C3%A7%C3%A3o+do+dolar&oq=cota%C3%A7%C3%A3o+do+dolar&aqs=edge..69i57j0i433i457i512j0i402l2j0i512l4.4949j0j1&sourceid=chrome&ie=UTF-8\"\n",
    "dados_da_pag = requests.get(url=url, headers = headers)\n",
    "dados_da_pag = BeautifulSoup(dados_da_pag.content, 'html.parser')\n",
    "dados_da_pag = dados_da_pag.find_all('span', class_='DFlfde SwHCTb')[0] #.get_text().strip()\n",
    "print('valor: ', dados_da_pag['data-value'])\n"
   ]
  },
  {
   "cell_type": "markdown",
   "id": "1fb59aff",
   "metadata": {},
   "source": []
  },
  {
   "cell_type": "code",
   "execution_count": null,
   "id": "5709d3d6",
   "metadata": {},
   "outputs": [],
   "source": [
    "<span class=\"DFlfde SwHCTb\" data-precision=\"2\" data-value=\"5.2078\">5,21</span>"
   ]
  },
  {
   "cell_type": "code",
   "execution_count": null,
   "id": "2a1b7169",
   "metadata": {},
   "outputs": [
    {
     "name": "stdout",
     "output_type": "stream",
     "text": [
      "situação:  [<div id=\"root\"></div>]\n"
     ]
    }
   ],
   "source": [
    "import requests\n",
    "import json\n",
    "from bs4 import BeautifulSoup\n",
    "headers = headers = {'User-Agent':\"Mozilla/5.0 (Windows NT 10.0; Win64; x64) AppleWebKit/537.36 (KHTML, like Gecko) Chrome/109.0.0.0 Safari/537.36\"}\n",
    "url = \"https://checkout.juno.com.br/#/checkout/04D00EEF9DE8705AFD3EA653110E5DA46D69A0DBF883A099/oldLink\"\n",
    "dados_da_page = requests.get(url=url, headers = headers)\n",
    "dados_da_page = BeautifulSoup(dados_da_page.content, 'html.parser')\n",
    "dados_da_page= dados_da_page.find_all('div') #.get_text().strip() class_=\"Field__Container-sc-19xv3cn-1 hbWbjV\"\n",
    "print('situação: ', dados_da_page)"
   ]
  },
  {
   "cell_type": "code",
   "execution_count": null,
   "id": "6824c07e",
   "metadata": {},
   "outputs": [],
   "source": [
    "dados_da_page = requests.get(url=url, headers = headers)\n",
    "dados_da_page = BeautifulSoup(dados_da_page.content, 'html.parser')\n",
    "#dados_da_page= dados_da_page.find_all('div') #.get_text().strip() class_=\"Field__Container-sc-19xv3cn-1 hbWbjV\"\n",
    "print('situação: ', dados_da_page.text)"
   ]
  },
  {
   "cell_type": "code",
   "execution_count": null,
   "id": "dfab5d4c",
   "metadata": {},
   "outputs": [
    {
     "ename": "SyntaxError",
     "evalue": "invalid syntax (330631309.py, line 1)",
     "output_type": "error",
     "traceback": [
      "\u001b[1;36m  Input \u001b[1;32mIn [84]\u001b[1;36m\u001b[0m\n\u001b[1;33m    <div class=\"Field__Container-sc-19xv3cn-1 hbWbjV\"><label class=\"Field__Label-sc-19xv3cn-2 kXXPsO\">Situação</label><span>Pago</span></div>\u001b[0m\n\u001b[1;37m    ^\u001b[0m\n\u001b[1;31mSyntaxError\u001b[0m\u001b[1;31m:\u001b[0m invalid syntax\n"
     ]
    }
   ],
   "source": [
    "<div class=\"Field__Container-sc-19xv3cn-1 hbWbjV\"><label class=\"Field__Label-sc-19xv3cn-2 kXXPsO\">Situação</label><span>Pago</span></div>\n",
    "\n"
   ]
  },
  {
   "cell_type": "code",
   "execution_count": null,
   "id": "a8ec2928",
   "metadata": {},
   "outputs": [
    {
     "name": "stdout",
     "output_type": "stream",
     "text": [
      "Requirement already satisfied: beautifulsoup4 in c:\\users\\cleomar\\anaconda3\\lib\\site-packages (4.11.1)\n",
      "Requirement already satisfied: soupsieve>1.2 in c:\\users\\cleomar\\anaconda3\\lib\\site-packages (from beautifulsoup4) (2.3.1)\n",
      "Note: you may need to restart the kernel to use updated packages.\n"
     ]
    }
   ],
   "source": [
    "<div class=\"Field__Row-sc-19xv3cn-0 gloLoM\"><div class=\"Field__Container-sc-19xv3cn-1 hbWbjV\"><label class=\"Field__Label-sc-19xv3cn-2 kXXPsO\">Valor</label><span>R$&nbsp;5,00</span></div><div class=\"Field__Container-sc-19xv3cn-1 hbWbjV\"><label class=\"Field__Label-sc-19xv3cn-2 kXXPsO\">Vencimento</label><span>10/11/2022</span></div><div class=\"Field__Container-sc-19xv3cn-1 hbWbjV\"><label class=\"Field__Label-sc-19xv3cn-2 kXXPsO\">Situação</label><span>Pago</span></div></div>\n"
   ]
  },
  {
   "cell_type": "code",
   "execution_count": null,
   "id": "bc5a67e6",
   "metadata": {},
   "outputs": [],
   "source": []
  }
 ],
 "metadata": {
  "kernelspec": {
   "display_name": "Python 3 (ipykernel)",
   "language": "python",
   "name": "python3"
  },
  "language_info": {
   "codemirror_mode": {
    "name": "ipython",
    "version": 3
   },
   "file_extension": ".py",
   "mimetype": "text/x-python",
   "name": "python",
   "nbconvert_exporter": "python",
   "pygments_lexer": "ipython3",
   "version": "3.10.6"
  }
 },
 "nbformat": 4,
 "nbformat_minor": 5
}
